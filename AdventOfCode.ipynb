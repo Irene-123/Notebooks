{
 "cells": [
  {
   "cell_type": "markdown",
   "metadata": {},
   "source": [
    "# Day 12"
   ]
  },
  {
   "cell_type": "code",
   "execution_count": 1,
   "metadata": {},
   "outputs": [],
   "source": [
    "import pandas as pd\n",
    "import numpy as np"
   ]
  },
  {
   "cell_type": "code",
   "execution_count": 4,
   "metadata": {},
   "outputs": [],
   "source": [
    "data=np.loadtxt('input.txt',dtype=str)\n"
   ]
  },
  {
   "cell_type": "code",
   "execution_count": 8,
   "metadata": {},
   "outputs": [
    {
     "name": "stdout",
     "output_type": "stream",
     "text": [
      "194\n"
     ]
    }
   ],
   "source": [
    "x,y=0,0\n",
    "facing='E'\n",
    "dir_=np.array(['E','S','W','N'])\n",
    "x_dir={'N':0,'S':0,'E':1,'W':-1}\n",
    "y_dir={'N':1,'S':-1,'E':0,'W':0}\n",
    "for i in data:\n",
    "    if i[0] in dir_:\n",
    "        x+=x_dir[i[0]]*int(i[1:])\n",
    "        y+=y_dir[i[0]]*int(i[1:])\n",
    "    elif i[0]=='L':\n",
    "        rotate=int(i[1:])//90\n",
    "        dir_=np.roll(dir_,rotate)\n",
    "        facing=dir_[0]\n",
    "    elif i[0]=='R':\n",
    "        rotate=-1*(int(i[1:])//90)\n",
    "        dir_=np.roll(dir_,rotate)\n",
    "        facing=dir_[0]\n",
    "    elif i[0]=='F':\n",
    "        x+=x_dir[facing]*int(i[1:])\n",
    "        y+=y_dir[facing]*int(i[1:])\n",
    "        \n",
    "print(np.abs(x+y))        "
   ]
  },
  {
   "cell_type": "code",
   "execution_count": 11,
   "metadata": {},
   "outputs": [
    {
     "name": "stdout",
     "output_type": "stream",
     "text": [
      "194\n"
     ]
    }
   ],
   "source": [
    "x = 0\n",
    "y = 0\n",
    "facing = 'E'\n",
    "Dir = np.array(['E','S','W','N'])\n",
    "x_change = {'N':0,'S':0,'E':1,'W':-1}\n",
    "y_change = {'N':1,'S':-1,'E':0,'W':0}\n",
    "\n",
    "for i in data:\n",
    "    if i[0] in Dir:\n",
    "        x += x_change[i[0]]*int(i[1:])\n",
    "        y += y_change[i[0]]*int(i[1:])\n",
    "    elif i[0] == 'L':\n",
    "        rotate = int(int(i[1:])/90)\n",
    "        Dir = np.roll(Dir,rotate)\n",
    "        facing = Dir[0]\n",
    "    elif i[0] == 'R':\n",
    "        rotate = int(-1*int(i[1:])/90)\n",
    "        Dir = np.roll(Dir,rotate)\n",
    "        facing = Dir[0]     \n",
    "    elif i[0] == 'F':\n",
    "        x += x_change[facing]*int(i[1:])\n",
    "        y += y_change[facing]*int(i[1:])\n",
    "print(np.abs(x+y))"
   ]
  },
  {
   "cell_type": "code",
   "execution_count": 10,
   "metadata": {},
   "outputs": [
    {
     "name": "stdout",
     "output_type": "stream",
     "text": [
      "20592\n"
     ]
    }
   ],
   "source": [
    "ship_x = 0\n",
    "ship_y = 0\n",
    "wp_x = 10\n",
    "wp_y = 1\n",
    "\n",
    "Dir = np.array(['N','E','S','W'])\n",
    "x_change = {'N':0,'S':0,'E':1,'W':-1}\n",
    "y_change = {'N':1,'S':-1,'E':0,'W':0}\n",
    "clockwise = np.array([[0,-1],[1,0]])\n",
    "\n",
    "for i in data:\n",
    "    if i[0] in Dir:\n",
    "        wp_x += x_change[i[0]]*int(i[1:])\n",
    "        wp_y += y_change[i[0]]*int(i[1:])\n",
    "    elif i[0] == 'L':\n",
    "        rotate = int(int(i[1:])/90)\n",
    "        for i in np.arange(rotate):\n",
    "            wp_coords = np.array([wp_x,wp_y])\n",
    "            wp_x,wp_y = np.matmul(wp_coords,-1*clockwise)\n",
    "    elif i[0] == 'R':\n",
    "        rotate = int(int(i[1:])/90)\n",
    "        for i in np.arange(rotate):\n",
    "            wp_coords = np.array([wp_x,wp_y])\n",
    "            wp_x,wp_y = np.matmul(wp_coords,clockwise)\n",
    "    elif i[0] == 'F':\n",
    "        ship_x += wp_x*int(i[1:])\n",
    "        ship_y += wp_y*int(i[1:])\n",
    "print(np.abs(ship_x)+np.abs(ship_y))"
   ]
  },
  {
   "cell_type": "code",
   "execution_count": 12,
   "metadata": {},
   "outputs": [
    {
     "name": "stdout",
     "output_type": "stream",
     "text": [
      "20592\n"
     ]
    }
   ],
   "source": [
    "with open('input.txt') as f:\n",
    "    waypoint = {'N': 1, 'E':10, 'S': 0, 'W': 0}\n",
    "    distances = {'N': 0, 'E':0, 'S': 0, 'W': 0}\n",
    "\n",
    "    for instruction in f.readlines():\n",
    "        instruction = instruction.strip()\n",
    "        if 'R' in instruction:\n",
    "            for rotation in range(int(instruction[1:])//90):\n",
    "                waypoint['E'], waypoint['S'], waypoint['W'], waypoint['N'] = waypoint['N'], waypoint['E'], waypoint['S'], waypoint['W']\n",
    "\n",
    "        elif 'L' in instruction:\n",
    "            for rotation in range(int(instruction[1:])//90):\n",
    "                waypoint['N'], waypoint['E'], waypoint['S'], waypoint['W'] = waypoint['E'], waypoint['S'], waypoint['W'], waypoint['N']\n",
    "\n",
    "        elif 'F' in instruction:\n",
    "            for direction in distances:\n",
    "                distances[direction] += waypoint[direction] * int(instruction[1:])\n",
    "\n",
    "        else:\n",
    "            waypoint[instruction[0]] += int(instruction[1:])\n",
    "            \n",
    "    print(abs(distances['N'] - distances['S']) + abs(distances['E'] - distances['W']))"
   ]
  },
  {
   "cell_type": "code",
   "execution_count": null,
   "metadata": {},
   "outputs": [],
   "source": []
  }
 ],
 "metadata": {
  "kernelspec": {
   "display_name": "Python 3",
   "language": "python",
   "name": "python3"
  },
  "language_info": {
   "codemirror_mode": {
    "name": "ipython",
    "version": 3
   },
   "file_extension": ".py",
   "mimetype": "text/x-python",
   "name": "python",
   "nbconvert_exporter": "python",
   "pygments_lexer": "ipython3",
   "version": "3.8.5"
  }
 },
 "nbformat": 4,
 "nbformat_minor": 4
}
