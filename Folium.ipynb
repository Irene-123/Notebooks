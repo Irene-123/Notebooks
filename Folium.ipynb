{
 "cells": [
  {
   "cell_type": "code",
   "execution_count": null,
   "metadata": {},
   "outputs": [],
   "source": [
    "import networkx as nx\n",
    "import osmnx as ox\n",
    "import requests\n",
    "import matplotlib.cm as cm\n",
    "import matplotlib.colors as colors\n",
    "%matplotlib inline\n",
    "ox.config(use_cache=True, log_console=True)\n",
    "ox.__version__"
   ]
  },
  {
   "cell_type": "code",
   "execution_count": null,
   "metadata": {},
   "outputs": [],
   "source": [
    "place='Liverpool,United Kingdom'\n",
    "graph=ox.graph_from_place(place,network_type='drive')\n",
    "fig,ax=ox.plot_graph(graph,figsize=(15,15))"
   ]
  },
  {
   "cell_type": "code",
   "execution_count": null,
   "metadata": {},
   "outputs": [],
   "source": [
    "nodes,streets=ox.graph_to_gdfs(graph)\n",
    "streets.head()\n"
   ]
  },
  {
   "cell_type": "code",
   "execution_count": null,
   "metadata": {},
   "outputs": [],
   "source": [
    "import folium\n",
    "style={'color':'#F7DC6F','weight':'1'}\n",
    "m=folium.Map([-2.914018,53.366925],\n",
    "            zoom_start=15,\n",
    "            titles='CartoDb dark_matter')\n",
    "folium.GeoJson(edges.sample(),style_function=lambda x: style).add_to(m)\n",
    "#m.save('C:\\Users\\Kirti\\Downloads\\edges.html',encoding=\"ISO-8859-1\")\n",
    "m"
   ]
  }
 ],
 "metadata": {
  "kernelspec": {
   "display_name": "Python 3",
   "language": "python",
   "name": "python3"
  },
  "language_info": {
   "codemirror_mode": {
    "name": "ipython",
    "version": 3
   },
   "file_extension": ".py",
   "mimetype": "text/x-python",
   "name": "python",
   "nbconvert_exporter": "python",
   "pygments_lexer": "ipython3",
   "version": "3.8.5"
  }
 },
 "nbformat": 4,
 "nbformat_minor": 4
}
