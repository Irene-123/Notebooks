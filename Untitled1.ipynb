{
 "cells": [
  {
   "cell_type": "code",
   "execution_count": 2,
   "metadata": {},
   "outputs": [],
   "source": [
    "import re \n",
    "\n"
   ]
  },
  {
   "cell_type": "code",
   "execution_count": 15,
   "metadata": {},
   "outputs": [
    {
     "data": {
      "text/plain": [
       "['Column,QuestionText',\n",
       " 'Respondent,Randomized respondent ID number (not in order of survey response time)',\n",
       " 'MainBranch,\"Which of the following options best describes you today? Here, by \"\"developer\"\" we mean \"\"someone who writes code.\"\"\"',\n",
       " 'Hobbyist,Do you code as a hobby?',\n",
       " 'Age,\"What is your age (in years)? If you prefer not to answer, you may leave this question blank.\"',\n",
       " 'Age1stCode,\"At what age did you write your first line of code or program? (e.g., webpage, Hello World, Scratch project)\"',\n",
       " 'CompFreq,\"Is that compensation weekly, monthly, or yearly?\"',\n",
       " 'CompTotal,\"What is your current total compensation (salary, bonuses, and perks, before taxes and deductions), in `CurrencySymbol`? Please enter a whole number in the box below, without any punctuation. If you are paid hourly, please estimate an equivalent weekly, monthly, or yearly salary. If you prefer not to answer, please leave the box empty.\"',\n",
       " 'ConvertedComp,\"Salary converted to annual USD salaries using the exchange rate on 2020-02-19, assuming 12 working months and 50 working weeks.\"',\n",
       " 'Country,Where do you live?',\n",
       " 'CurrencyDesc,\"Which currency do you use day-to-day? If your answer is complicated, please pick the one you\\'re most comfortable estimating in.\"',\n",
       " 'CurrencySymbol,\"Which currency do you use day-to-day? If your answer is complicated, please pick the one you\\'re most comfortable estimating in.\"',\n",
       " 'DatabaseDesireNextYear,\"Which database environments have you done extensive development work in over the past year, and which do you want to work in over the next year? (If you both worked with the database and want to continue to do so, please check both boxes in that row.)\"',\n",
       " 'DatabaseWorkedWith,\"Which database environments have you done extensive development work in over the past year, and which do you want to work in over the next year? (If you both worked with the database and want to continue to do so, please check both boxes in that row.)\"',\n",
       " 'DevType,Which of the following describe you? Please select all that apply.',\n",
       " 'EdLevel,Which of the following best describes the highest level of formal education that you’ve completed?',\n",
       " 'Employment,Which of the following best describes your current employment status?',\n",
       " 'Ethnicity,\"Which of the following describe you, if any? Please check all that apply. If you prefer not to answer, you may leave this question blank.\"',\n",
       " 'Gender,\"Which of the following describe you, if any? Please check all that apply. If you prefer not to answer, you may leave this question blank.\"',\n",
       " 'JobFactors,\"Imagine that you are deciding between two job offers with the same compensation, benefits, and location. Of the following factors, which 3 are MOST important to you?\"',\n",
       " 'JobSat,\"How satisfied are you with your current job? (If you work multiple jobs, answer for the one you spend the most hours on.)\"',\n",
       " 'JobSeek,Which of the following best describes your current job-seeking status?',\n",
       " 'LanguageDesireNextYear,\"Which programming, scripting, and markup languages have you done extensive development work in over the past year, and which do you want to work in over the next year? (If you both worked with the language and want to continue to do so, please check both boxes in that row.)\"',\n",
       " 'LanguageWorkedWith,\"Which programming, scripting, and markup languages have you done extensive development work in over the past year, and which do you want to work in over the next year? (If you both worked with the language and want to continue to do so, please check both boxes in that row.)\"',\n",
       " 'MiscTechDesireNextYear,\"Which other frameworks, libraries, and tools have you done extensive development work in over the past year, and which do you want to work in over the next year? (If you both worked with the framework and want to continue to do so, please check both boxes in that row.)\"',\n",
       " 'MiscTechWorkedWith,\"Which other frameworks, libraries, and tools have you done extensive development work in over the past year, and which do you want to work in over the next year? (If you both worked with the framework and want to continue to do so, please check both boxes in that row.)\"',\n",
       " 'NEWCollabToolsDesireNextYear,\"Which collaboration tools have you done extensive development work in over the past year, and which do you want to work in over the next year? (If you worked with the tool and want to continue to do so, please check both boxes in that row.)\"',\n",
       " 'NEWCollabToolsWorkedWith,\"Which collaboration tools have you done extensive development work in over the past year, and which do you want to work in over the next year? (If you worked with the tool and want to continue to do so, please check both boxes in that row.)\"',\n",
       " 'NEWDevOps,Does your company have a dedicated DevOps person?',\n",
       " 'NEWDevOpsImpt,How important is the practice of DevOps to scaling software development?',\n",
       " 'NEWEdImpt,\"How important is a formal education, such as a university degree in computer science, to your career?\"',\n",
       " 'NEWJobHunt,\"In general, what drives you to look for a new job? Select all that apply.\"',\n",
       " 'NEWJobHuntResearch,\"When job searching, how do you learn more about a company? Select all that apply.\"',\n",
       " 'NEWLearn,How frequently do you learn a new language or framework?',\n",
       " 'NEWOffTopic,Do you think Stack Overflow should relax restrictions on what is considered “off-topic”?',\n",
       " 'NEWOnboardGood,\"Do you think your company has a good onboarding process? (By onboarding, we mean the structured process of getting you settled in to your new role at a company)\"',\n",
       " 'NEWOtherComms,Are you a member of any other online developer communities?',\n",
       " 'NEWOvertime,How often do you work overtime or beyond the formal time expectation of your job?',\n",
       " 'NEWPurchaseResearch,\"When buying a new tool or software, how do you discover and research available solutions? Select all that apply.\"',\n",
       " 'NEWPurpleLink,You search for a coding solution online and the first result link is purple because you already visited it. How do you feel?',\n",
       " 'NEWSOSites,Which of the following Stack Overflow sites have you visited? Select all that apply.',\n",
       " 'NEWStuck,What do you do when you get stuck on a problem? Select all that apply.',\n",
       " 'OpSys,What is the primary operating system in which you work?',\n",
       " 'OrgSize,Approximately how many people are employed by the company or organization you currently work for?',\n",
       " 'PlatformDesireNextYear,\"Which platforms have you done extensive development work in over the past year, and which do you want to work in over the next year? (If you both worked with the platform and want to continue to do so, please check both boxes in that row.)\"',\n",
       " 'PlatformWorkedWith,\"Which platforms have you done extensive development work in over the past year, and which do you want to work in over the next year? (If you both worked with the platform and want to continue to do so, please check both boxes in that row.)\"',\n",
       " 'PurchaseWhat,\"What level of influence do you, personally, have over new technology purchases at your organization?\"',\n",
       " 'Sexuality,\"Which of the following describe you, if any? Please check all that apply. If you prefer not to answer, you may leave this question blank.\"',\n",
       " 'SOAccount,Do you have a Stack Overflow account?',\n",
       " 'SOComm,Do you consider yourself a member of the Stack Overflow community?',\n",
       " 'SOPartFreq,\"How frequently would you say you participate in Q&A on Stack Overflow? By participate we mean ask, answer, vote for, or comment on questions.\"',\n",
       " 'SOVisitFreq,How frequently would you say you visit Stack Overflow?',\n",
       " 'SurveyEase,How easy or difficult was this survey to complete?',\n",
       " 'SurveyLength,How do you feel about the length of the survey this year?',\n",
       " 'Trans,Are you transgender?',\n",
       " 'UndergradMajor,What was your primary field of study?',\n",
       " 'WebframeDesireNextYear,\"Which web frameworks have you done extensive development work in over the past year, and which do you want to work in over the next year? (If you both worked with the framework and want to continue to do so, please check both boxes in that row.)\"',\n",
       " 'WebframeWorkedWith,\"Which web frameworks have you done extensive development work in over the past year, and which do you want to work in over the next year? (If you both worked with the framework and want to continue to do so, please check both boxes in that row.)\"',\n",
       " 'WelcomeChange,\"Compared to last year, how welcome do you feel on Stack Overflow?\"',\n",
       " 'WorkWeekHrs,\"On average, how many hours per week do you work? Please enter a whole number in the box.\"',\n",
       " 'YearsCode,\"Including any education, how many years have you been coding in total?\"',\n",
       " 'YearsCodePro,\"NOT including education, how many years have you coded professionally (as a part of your work)?\"',\n",
       " '']"
      ]
     },
     "execution_count": 15,
     "metadata": {},
     "output_type": "execute_result"
    }
   ],
   "source": [
    "with open('/home/kirti/Data_sets/developer_survey_2020/survey_results_schema.csv','r') as file:\n",
    "    data=file.read().split('\\n')\n",
    "data    "
   ]
  },
  {
   "cell_type": "code",
   "execution_count": 17,
   "metadata": {},
   "outputs": [
    {
     "name": "stdout",
     "output_type": "stream",
     "text": [
      "['Which of the following options best describes you today', 'What is your age (in years)', 'At what age did you write your first line of code or program', 'Is that compensation weekly, monthly, or yearly', 'What is your current total compensation (salary, bonuses, and perks, before taxes and deductions), in `CurrencySymbol`', 'Which currency do you use day-to-day', 'Which currency do you use day-to-day', 'Which database environments have you done extensive development work in over the past year, and which do you want to work in over the next year', 'Which database environments have you done extensive development work in over the past year, and which do you want to work in over the next year', 'Which of the following describe you, if any', 'Which of the following describe you, if any', 'Imagine that you are deciding between two job offers with the same compensation, benefits, and location. Of the following factors, which 3 are MOST important to you', 'How satisfied are you with your current job', 'Which programming, scripting, and markup languages have you done extensive development work in over the past year, and which do you want to work in over the next year', 'Which programming, scripting, and markup languages have you done extensive development work in over the past year, and which do you want to work in over the next year', 'Which other frameworks, libraries, and tools have you done extensive development work in over the past year, and which do you want to work in over the next year', 'Which other frameworks, libraries, and tools have you done extensive development work in over the past year, and which do you want to work in over the next year', 'Which collaboration tools have you done extensive development work in over the past year, and which do you want to work in over the next year', 'Which collaboration tools have you done extensive development work in over the past year, and which do you want to work in over the next year', 'How important is a formal education, such as a university degree in computer science, to your career', 'In general, what drives you to look for a new job', 'When job searching, how do you learn more about a company', 'Do you think your company has a good onboarding process', 'When buying a new tool or software, how do you discover and research available solutions', 'Which platforms have you done extensive development work in over the past year, and which do you want to work in over the next year', 'Which platforms have you done extensive development work in over the past year, and which do you want to work in over the next year', 'What level of influence do you, personally, have over new technology purchases at your organization', 'Which of the following describe you, if any', 'How frequently would you say you participate in Q&A on Stack Overflow', 'Which web frameworks have you done extensive development work in over the past year, and which do you want to work in over the next year', 'Which web frameworks have you done extensive development work in over the past year, and which do you want to work in over the next year', 'Compared to last year, how welcome do you feel on Stack Overflow', 'On average, how many hours per week do you work', 'Including any education, how many years have you been coding in total', 'NOT including education, how many years have you coded professionally (as a part of your work)']\n"
     ]
    }
   ],
   "source": [
    "lst=[]\n",
    "regex=re.compile(r'\"([^?]*)\\?')\n",
    "for quest in data:\n",
    "    if regex.search(quest):\n",
    "        lst.append(regex.search(quest).group(1))\n",
    "print(lst)        \n",
    "   "
   ]
  },
  {
   "cell_type": "code",
   "execution_count": 1,
   "metadata": {},
   "outputs": [],
   "source": [
    "import numpy as np\n",
    "import pandas as pd\n"
   ]
  },
  {
   "cell_type": "code",
   "execution_count": 2,
   "metadata": {},
   "outputs": [],
   "source": [
    "df = pd.DataFrame()\n",
    "df['start']   = [1,5,7,2]\n",
    "df['end']     = [4,6,8,9,]\n",
    "df['A start'] = [234, -475, -765, 113]\n",
    "df['A end']   = [-654, 312, 987, -553]"
   ]
  },
  {
   "cell_type": "code",
   "execution_count": 5,
   "metadata": {},
   "outputs": [
    {
     "data": {
      "text/html": [
       "<div>\n",
       "<style scoped>\n",
       "    .dataframe tbody tr th:only-of-type {\n",
       "        vertical-align: middle;\n",
       "    }\n",
       "\n",
       "    .dataframe tbody tr th {\n",
       "        vertical-align: top;\n",
       "    }\n",
       "\n",
       "    .dataframe thead th {\n",
       "        text-align: right;\n",
       "    }\n",
       "</style>\n",
       "<table border=\"1\" class=\"dataframe\">\n",
       "  <thead>\n",
       "    <tr style=\"text-align: right;\">\n",
       "      <th></th>\n",
       "      <th>start</th>\n",
       "      <th>end</th>\n",
       "      <th>A start</th>\n",
       "      <th>A end</th>\n",
       "    </tr>\n",
       "  </thead>\n",
       "  <tbody>\n",
       "    <tr>\n",
       "      <th>0</th>\n",
       "      <td>1</td>\n",
       "      <td>4</td>\n",
       "      <td>234</td>\n",
       "      <td>-654</td>\n",
       "    </tr>\n",
       "    <tr>\n",
       "      <th>1</th>\n",
       "      <td>5</td>\n",
       "      <td>6</td>\n",
       "      <td>312</td>\n",
       "      <td>-475</td>\n",
       "    </tr>\n",
       "    <tr>\n",
       "      <th>2</th>\n",
       "      <td>7</td>\n",
       "      <td>8</td>\n",
       "      <td>987</td>\n",
       "      <td>-765</td>\n",
       "    </tr>\n",
       "    <tr>\n",
       "      <th>3</th>\n",
       "      <td>2</td>\n",
       "      <td>9</td>\n",
       "      <td>113</td>\n",
       "      <td>-553</td>\n",
       "    </tr>\n",
       "  </tbody>\n",
       "</table>\n",
       "</div>"
      ],
      "text/plain": [
       "   start  end  A start  A end\n",
       "0      1    4      234   -654\n",
       "1      5    6      312   -475\n",
       "2      7    8      987   -765\n",
       "3      2    9      113   -553"
      ]
     },
     "execution_count": 5,
     "metadata": {},
     "output_type": "execute_result"
    }
   ],
   "source": [
    "df[['A start','A end']] = df[['A end','A start']].where(df['A start'] < 0 , df[['A start','A end']].values)\n",
    "df"
   ]
  },
  {
   "cell_type": "code",
   "execution_count": 1,
   "metadata": {},
   "outputs": [],
   "source": [
    "import matplotlib.pyplot as plt\n",
    "from mpl_toolkits.axes_grid1 import make_axes_locatable\n",
    "import numpy as np"
   ]
  },
  {
   "cell_type": "code",
   "execution_count": 8,
   "metadata": {},
   "outputs": [
    {
     "ename": "TypeError",
     "evalue": "unsupported operand type(s) for -: 'list' and 'int'",
     "output_type": "error",
     "traceback": [
      "\u001b[0;31m---------------------------------------------------------------------------\u001b[0m",
      "\u001b[0;31mTypeError\u001b[0m                                 Traceback (most recent call last)",
      "\u001b[0;32m<ipython-input-8-d99e16fa1b76>\u001b[0m in \u001b[0;36m<module>\u001b[0;34m\u001b[0m\n\u001b[0;32m----> 1\u001b[0;31m \u001b[0mxdomain\u001b[0m \u001b[0;34m=\u001b[0m \u001b[0mnp\u001b[0m\u001b[0;34m.\u001b[0m\u001b[0marange\u001b[0m\u001b[0;34m(\u001b[0m\u001b[0;34m[\u001b[0m\u001b[0;36m1\u001b[0m\u001b[0;34m,\u001b[0m \u001b[0;36m3\u001b[0m\u001b[0;34m,\u001b[0m \u001b[0;36m4\u001b[0m\u001b[0;34m,\u001b[0m \u001b[0;36m5\u001b[0m\u001b[0;34m,\u001b[0m \u001b[0;36m7\u001b[0m\u001b[0;34m,\u001b[0m \u001b[0;36m9\u001b[0m\u001b[0;34m,\u001b[0m \u001b[0;36m10\u001b[0m\u001b[0;34m,\u001b[0m \u001b[0;36m11\u001b[0m\u001b[0;34m,\u001b[0m \u001b[0;36m12\u001b[0m\u001b[0;34m]\u001b[0m\u001b[0;34m)\u001b[0m\u001b[0;34m\u001b[0m\u001b[0;34m\u001b[0m\u001b[0m\n\u001b[0m\u001b[1;32m      2\u001b[0m \u001b[0;34m\u001b[0m\u001b[0m\n\u001b[1;32m      3\u001b[0m \u001b[0maxMain\u001b[0m \u001b[0;34m=\u001b[0m \u001b[0mplt\u001b[0m\u001b[0;34m.\u001b[0m\u001b[0msubplot\u001b[0m\u001b[0;34m(\u001b[0m\u001b[0;36m111\u001b[0m\u001b[0;34m)\u001b[0m\u001b[0;34m\u001b[0m\u001b[0;34m\u001b[0m\u001b[0m\n\u001b[1;32m      4\u001b[0m \u001b[0maxMain\u001b[0m\u001b[0;34m.\u001b[0m\u001b[0mplot\u001b[0m\u001b[0;34m(\u001b[0m\u001b[0mnp\u001b[0m\u001b[0;34m.\u001b[0m\u001b[0msin\u001b[0m\u001b[0;34m(\u001b[0m\u001b[0mxdomain\u001b[0m\u001b[0;34m)\u001b[0m\u001b[0;34m,\u001b[0m \u001b[0mxdomain\u001b[0m\u001b[0;34m)\u001b[0m\u001b[0;34m\u001b[0m\u001b[0;34m\u001b[0m\u001b[0m\n\u001b[1;32m      5\u001b[0m \u001b[0maxMain\u001b[0m\u001b[0;34m.\u001b[0m\u001b[0mset_xscale\u001b[0m\u001b[0;34m(\u001b[0m\u001b[0;34m'linear'\u001b[0m\u001b[0;34m)\u001b[0m\u001b[0;34m\u001b[0m\u001b[0;34m\u001b[0m\u001b[0m\n",
      "\u001b[0;31mTypeError\u001b[0m: unsupported operand type(s) for -: 'list' and 'int'"
     ]
    }
   ],
   "source": [
    "xdomain = np.arange(1,12,)\n",
    "\n",
    "axMain = plt.subplot(111)\n",
    "axMain.plot(np.sin(xdomain), xdomain)\n",
    "axMain.set_xscale('linear')\n",
    "axMain.set_xlim((0.5, 1.5))\n",
    "\n",
    "divider = make_axes_locatable(axMain)\n",
    "axLin = divider.append_axes(\"left\", size=2.0, pad=0, sharey=axMain)\n",
    "axLin.set_xscale('log')\n",
    "axLin.set_xlim((0.01, 0.5))\n",
    "axLin.plot(np.sin(xdomain), xdomain)\n",
    "plt.title('Linear right, log left')"
   ]
  },
  {
   "cell_type": "code",
   "execution_count": null,
   "metadata": {},
   "outputs": [],
   "source": []
  }
 ],
 "metadata": {
  "kernelspec": {
   "display_name": "Python 3",
   "language": "python",
   "name": "python3"
  },
  "language_info": {
   "codemirror_mode": {
    "name": "ipython",
    "version": 3
   },
   "file_extension": ".py",
   "mimetype": "text/x-python",
   "name": "python",
   "nbconvert_exporter": "python",
   "pygments_lexer": "ipython3",
   "version": "3.8.5"
  }
 },
 "nbformat": 4,
 "nbformat_minor": 4
}
