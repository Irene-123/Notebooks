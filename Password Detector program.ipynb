{
 "cells": [
  {
   "cell_type": "code",
   "execution_count": 1,
   "metadata": {},
   "outputs": [
    {
     "name": "stdout",
     "output_type": "stream",
     "text": [
      "Enter your password: 76trdfgh\n",
      "Medium Password\n"
     ]
    }
   ],
   "source": [
    "password=input('Enter your password: ')\n",
    "numbers=set('1234567890')\n",
    "special=set('!#$@%^&*()-<>?/\\|~')\n",
    "sp=False\n",
    "nu=False\n",
    "\n",
    "if any((c in special ) for c in password):\n",
    "    sp=True\n",
    "if any((c in numbers ) for c in password):    \n",
    "    nu=True\n",
    "if sp and nu:\n",
    "    print(\"Strong Password\")\n",
    "elif sp or nu :\n",
    "    print(\"Medium Password\")\n",
    "else :\n",
    "    print(\"Weak Password\")\n",
    "    \n"
   ]
  },
  {
   "cell_type": "code",
   "execution_count": null,
   "metadata": {},
   "outputs": [
    {
     "name": "stdout",
     "output_type": "stream",
     "text": [
      "Enter your password\n",
      "Password must contain atleast 8 characters\n",
      "Enter your password\n",
      "Password must contain atleast 8 characters\n",
      "Enter your password\n",
      "Password must contain atleast 8 characters\n",
      "Enter your password57gfd@@A\n",
      "Password must contain atleast 8 characters\n",
      "Enter your password87654rtyh@#$ADDF\n",
      "The password is strong.Good Job!\n"
     ]
    }
   ],
   "source": [
    "import re\n",
    "\n",
    "passStrong=False\n",
    "def passStrength():\n",
    "    password=input('Enter your password')\n",
    "    lowerRegex=re.compile(r'[a-z]+')\n",
    "    upperRegex=re.compile(r'[A-Z]+')\n",
    "    digitRegex=re.compile(r'[0-9]+')\n",
    "    charRegex=re.compile(r'(\\w{8,})') \n",
    "    if charRegex.findall(password) == []:  \n",
    "        print('Password must contain atleast 8 characters')\n",
    "    elif digitRegex.findall(password)==[]:\n",
    "        print('Password must contain atleast one digit')\n",
    "    elif upperRegex.findall(password)==[]:\n",
    "        print('Password must contain atleast one uppercase letter')\n",
    "    elif lowerRegex.findall(password)==[]:\n",
    "        print('Password must contain atleast one letter')\n",
    "    else:\n",
    "        print(\"The password is strong.Good Job!\")\n",
    "        passStrong=True\n",
    "        return\n",
    "while not passStrong:\n",
    "    passStrength()\n",
    "                         "
   ]
  },
  {
   "cell_type": "code",
   "execution_count": null,
   "metadata": {},
   "outputs": [],
   "source": []
  }
 ],
 "metadata": {
  "kernelspec": {
   "display_name": "Python 3",
   "language": "python",
   "name": "python3"
  },
  "language_info": {
   "codemirror_mode": {
    "name": "ipython",
    "version": 3
   },
   "file_extension": ".py",
   "mimetype": "text/x-python",
   "name": "python",
   "nbconvert_exporter": "python",
   "pygments_lexer": "ipython3",
   "version": "3.8.5"
  }
 },
 "nbformat": 4,
 "nbformat_minor": 2
}
